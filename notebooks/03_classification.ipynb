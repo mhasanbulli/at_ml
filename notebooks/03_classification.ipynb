{
 "cells": [
  {
   "cell_type": "markdown",
   "metadata": {},
   "source": [
    "# Classification\n",
    "In this notebook, we will focus on building a classification model using the labeled data we have designed in the second notebook.\n",
    "\n",
    "We will use LightGBM classifier to build a classification model. We are choosing LightGMB over XGBoost as it is faster and performs well for this type of problem. Let's import all the modules we need and define the functions we will be using."
   ]
  },
  {
   "cell_type": "code",
   "execution_count": 1,
   "metadata": {},
   "outputs": [],
   "source": [
    "import pandas as pd\n",
    "import matplotlib.pyplot as plt\n",
    "import seaborn as sns\n",
    "import numpy as np\n",
    "import time\n",
    "import lightgbm as lgbm\n",
    "\n",
    "\n",
    "%matplotlib inline\n",
    "pd.plotting.register_matplotlib_converters()\n",
    "sns.set(style = \"ticks\")\n",
    "\n",
    "from sklearn.preprocessing import MinMaxScaler\n",
    "from sklearn.neighbors import LocalOutlierFactor\n",
    "from sklearn.model_selection import train_test_split, GridSearchCV\n",
    "from sklearn.metrics import auc, accuracy_score, roc_auc_score, roc_curve\n",
    "from sklearn.metrics import classification_report  \n",
    "from sklearn.metrics import precision_score, recall_score \n",
    "from sklearn.metrics import f1_score, matthews_corrcoef \n",
    "from sklearn.metrics import confusion_matrix"
   ]
  },
  {
   "cell_type": "markdown",
   "metadata": {},
   "source": [
    "Next, we design our dataset based on the discussions we had in the previous notebook."
   ]
  },
  {
   "cell_type": "code",
   "execution_count": 3,
   "metadata": {},
   "outputs": [
    {
     "data": {
      "text/html": [
       "<div>\n",
       "<style scoped>\n",
       "    .dataframe tbody tr th:only-of-type {\n",
       "        vertical-align: middle;\n",
       "    }\n",
       "\n",
       "    .dataframe tbody tr th {\n",
       "        vertical-align: top;\n",
       "    }\n",
       "\n",
       "    .dataframe thead th {\n",
       "        text-align: right;\n",
       "    }\n",
       "</style>\n",
       "<table border=\"1\" class=\"dataframe\">\n",
       "  <thead>\n",
       "    <tr style=\"text-align: right;\">\n",
       "      <th></th>\n",
       "      <th>has_gender</th>\n",
       "      <th>has_first_name</th>\n",
       "      <th>has_last_name</th>\n",
       "      <th>has_email</th>\n",
       "      <th>has_dob</th>\n",
       "      <th>account_age</th>\n",
       "      <th>account_last_updated</th>\n",
       "      <th>app_downloads</th>\n",
       "      <th>unique_offer_clicked</th>\n",
       "      <th>total_offer_clicks</th>\n",
       "      <th>unique_offer_rides</th>\n",
       "      <th>total_offer_rides</th>\n",
       "      <th>avg_claims</th>\n",
       "      <th>min_claims</th>\n",
       "      <th>max_claims</th>\n",
       "      <th>total_offers_claimed</th>\n",
       "      <th>label</th>\n",
       "    </tr>\n",
       "    <tr>\n",
       "      <th>consumer_id</th>\n",
       "      <th></th>\n",
       "      <th></th>\n",
       "      <th></th>\n",
       "      <th></th>\n",
       "      <th></th>\n",
       "      <th></th>\n",
       "      <th></th>\n",
       "      <th></th>\n",
       "      <th></th>\n",
       "      <th></th>\n",
       "      <th></th>\n",
       "      <th></th>\n",
       "      <th></th>\n",
       "      <th></th>\n",
       "      <th></th>\n",
       "      <th></th>\n",
       "      <th></th>\n",
       "    </tr>\n",
       "  </thead>\n",
       "  <tbody>\n",
       "    <tr>\n",
       "      <th>1284b75c-ecae-4015-8e3d-359c0347ede8</th>\n",
       "      <td>0.0</td>\n",
       "      <td>1.0</td>\n",
       "      <td>1.0</td>\n",
       "      <td>1.0</td>\n",
       "      <td>0.0</td>\n",
       "      <td>0.029474</td>\n",
       "      <td>0.071429</td>\n",
       "      <td>0.0</td>\n",
       "      <td>0.153846</td>\n",
       "      <td>0.032787</td>\n",
       "      <td>0.291667</td>\n",
       "      <td>0.029568</td>\n",
       "      <td>0.0</td>\n",
       "      <td>0.0</td>\n",
       "      <td>0.0</td>\n",
       "      <td>0.0</td>\n",
       "      <td>0</td>\n",
       "    </tr>\n",
       "    <tr>\n",
       "      <th>128af162-d2c3-4fe4-986c-359c8bdc6c04</th>\n",
       "      <td>0.0</td>\n",
       "      <td>1.0</td>\n",
       "      <td>1.0</td>\n",
       "      <td>1.0</td>\n",
       "      <td>0.0</td>\n",
       "      <td>0.023158</td>\n",
       "      <td>0.071429</td>\n",
       "      <td>0.0</td>\n",
       "      <td>0.153846</td>\n",
       "      <td>0.114754</td>\n",
       "      <td>0.166667</td>\n",
       "      <td>0.033116</td>\n",
       "      <td>0.0</td>\n",
       "      <td>0.0</td>\n",
       "      <td>0.0</td>\n",
       "      <td>0.0</td>\n",
       "      <td>0</td>\n",
       "    </tr>\n",
       "    <tr>\n",
       "      <th>12aada5e-36eb-4e9e-8d62-359c076c1b40</th>\n",
       "      <td>0.0</td>\n",
       "      <td>1.0</td>\n",
       "      <td>1.0</td>\n",
       "      <td>1.0</td>\n",
       "      <td>0.0</td>\n",
       "      <td>0.029474</td>\n",
       "      <td>0.071429</td>\n",
       "      <td>0.0</td>\n",
       "      <td>0.153846</td>\n",
       "      <td>0.049180</td>\n",
       "      <td>0.333333</td>\n",
       "      <td>0.107037</td>\n",
       "      <td>0.0</td>\n",
       "      <td>0.0</td>\n",
       "      <td>0.0</td>\n",
       "      <td>0.2</td>\n",
       "      <td>0</td>\n",
       "    </tr>\n",
       "    <tr>\n",
       "      <th>12c2e02f-bc79-4048-83ba-359cd3280dcf</th>\n",
       "      <td>0.0</td>\n",
       "      <td>1.0</td>\n",
       "      <td>1.0</td>\n",
       "      <td>1.0</td>\n",
       "      <td>0.0</td>\n",
       "      <td>0.021053</td>\n",
       "      <td>0.071429</td>\n",
       "      <td>0.0</td>\n",
       "      <td>0.153846</td>\n",
       "      <td>0.098361</td>\n",
       "      <td>0.125000</td>\n",
       "      <td>0.031934</td>\n",
       "      <td>0.0</td>\n",
       "      <td>0.0</td>\n",
       "      <td>0.0</td>\n",
       "      <td>0.0</td>\n",
       "      <td>0</td>\n",
       "    </tr>\n",
       "    <tr>\n",
       "      <th>12fabdf0-0582-489e-a6d3-35509ab8ae6f</th>\n",
       "      <td>1.0</td>\n",
       "      <td>1.0</td>\n",
       "      <td>1.0</td>\n",
       "      <td>1.0</td>\n",
       "      <td>1.0</td>\n",
       "      <td>0.837895</td>\n",
       "      <td>0.000000</td>\n",
       "      <td>0.0</td>\n",
       "      <td>0.230769</td>\n",
       "      <td>0.081967</td>\n",
       "      <td>0.250000</td>\n",
       "      <td>0.047901</td>\n",
       "      <td>0.0</td>\n",
       "      <td>0.0</td>\n",
       "      <td>0.0</td>\n",
       "      <td>0.2</td>\n",
       "      <td>0</td>\n",
       "    </tr>\n",
       "  </tbody>\n",
       "</table>\n",
       "</div>"
      ],
      "text/plain": [
       "                                      has_gender  has_first_name  \\\n",
       "consumer_id                                                        \n",
       "1284b75c-ecae-4015-8e3d-359c0347ede8         0.0             1.0   \n",
       "128af162-d2c3-4fe4-986c-359c8bdc6c04         0.0             1.0   \n",
       "12aada5e-36eb-4e9e-8d62-359c076c1b40         0.0             1.0   \n",
       "12c2e02f-bc79-4048-83ba-359cd3280dcf         0.0             1.0   \n",
       "12fabdf0-0582-489e-a6d3-35509ab8ae6f         1.0             1.0   \n",
       "\n",
       "                                      has_last_name  has_email  has_dob  \\\n",
       "consumer_id                                                               \n",
       "1284b75c-ecae-4015-8e3d-359c0347ede8            1.0        1.0      0.0   \n",
       "128af162-d2c3-4fe4-986c-359c8bdc6c04            1.0        1.0      0.0   \n",
       "12aada5e-36eb-4e9e-8d62-359c076c1b40            1.0        1.0      0.0   \n",
       "12c2e02f-bc79-4048-83ba-359cd3280dcf            1.0        1.0      0.0   \n",
       "12fabdf0-0582-489e-a6d3-35509ab8ae6f            1.0        1.0      1.0   \n",
       "\n",
       "                                      account_age  account_last_updated  \\\n",
       "consumer_id                                                               \n",
       "1284b75c-ecae-4015-8e3d-359c0347ede8     0.029474              0.071429   \n",
       "128af162-d2c3-4fe4-986c-359c8bdc6c04     0.023158              0.071429   \n",
       "12aada5e-36eb-4e9e-8d62-359c076c1b40     0.029474              0.071429   \n",
       "12c2e02f-bc79-4048-83ba-359cd3280dcf     0.021053              0.071429   \n",
       "12fabdf0-0582-489e-a6d3-35509ab8ae6f     0.837895              0.000000   \n",
       "\n",
       "                                      app_downloads  unique_offer_clicked  \\\n",
       "consumer_id                                                                 \n",
       "1284b75c-ecae-4015-8e3d-359c0347ede8            0.0              0.153846   \n",
       "128af162-d2c3-4fe4-986c-359c8bdc6c04            0.0              0.153846   \n",
       "12aada5e-36eb-4e9e-8d62-359c076c1b40            0.0              0.153846   \n",
       "12c2e02f-bc79-4048-83ba-359cd3280dcf            0.0              0.153846   \n",
       "12fabdf0-0582-489e-a6d3-35509ab8ae6f            0.0              0.230769   \n",
       "\n",
       "                                      total_offer_clicks  unique_offer_rides  \\\n",
       "consumer_id                                                                    \n",
       "1284b75c-ecae-4015-8e3d-359c0347ede8            0.032787            0.291667   \n",
       "128af162-d2c3-4fe4-986c-359c8bdc6c04            0.114754            0.166667   \n",
       "12aada5e-36eb-4e9e-8d62-359c076c1b40            0.049180            0.333333   \n",
       "12c2e02f-bc79-4048-83ba-359cd3280dcf            0.098361            0.125000   \n",
       "12fabdf0-0582-489e-a6d3-35509ab8ae6f            0.081967            0.250000   \n",
       "\n",
       "                                      total_offer_rides  avg_claims  \\\n",
       "consumer_id                                                           \n",
       "1284b75c-ecae-4015-8e3d-359c0347ede8           0.029568         0.0   \n",
       "128af162-d2c3-4fe4-986c-359c8bdc6c04           0.033116         0.0   \n",
       "12aada5e-36eb-4e9e-8d62-359c076c1b40           0.107037         0.0   \n",
       "12c2e02f-bc79-4048-83ba-359cd3280dcf           0.031934         0.0   \n",
       "12fabdf0-0582-489e-a6d3-35509ab8ae6f           0.047901         0.0   \n",
       "\n",
       "                                      min_claims  max_claims  \\\n",
       "consumer_id                                                    \n",
       "1284b75c-ecae-4015-8e3d-359c0347ede8         0.0         0.0   \n",
       "128af162-d2c3-4fe4-986c-359c8bdc6c04         0.0         0.0   \n",
       "12aada5e-36eb-4e9e-8d62-359c076c1b40         0.0         0.0   \n",
       "12c2e02f-bc79-4048-83ba-359cd3280dcf         0.0         0.0   \n",
       "12fabdf0-0582-489e-a6d3-35509ab8ae6f         0.0         0.0   \n",
       "\n",
       "                                      total_offers_claimed  label  \n",
       "consumer_id                                                        \n",
       "1284b75c-ecae-4015-8e3d-359c0347ede8                   0.0      0  \n",
       "128af162-d2c3-4fe4-986c-359c8bdc6c04                   0.0      0  \n",
       "12aada5e-36eb-4e9e-8d62-359c076c1b40                   0.2      0  \n",
       "12c2e02f-bc79-4048-83ba-359cd3280dcf                   0.0      0  \n",
       "12fabdf0-0582-489e-a6d3-35509ab8ae6f                   0.2      0  "
      ]
     },
     "execution_count": 3,
     "metadata": {},
     "output_type": "execute_result"
    }
   ],
   "source": [
    "file_path = \"../data/data.csv\"\n",
    "data = pd.read_csv(file_path, index_col = \"consumer_id\")\n",
    "\n",
    "cols_with_na = [col for col in data.columns if data[col].isnull().any()]\n",
    "\n",
    "data.drop(cols_with_na + [\"account_status\"], axis = 1, inplace = True)\n",
    "data_lof = pd.DataFrame(MinMaxScaler().fit_transform(data), index = data.index)\n",
    "lof = LocalOutlierFactor(n_neighbors=50, contamination=0.1).fit_predict(data_lof)\n",
    "data_lof.columns = data.columns\n",
    "data_lof[\"label\"] = lof\n",
    "data_lof[\"label\"] = data_lof[\"label\"].replace([-1,1],[1,0])\n",
    "data_lof.head()"
   ]
  },
  {
   "cell_type": "markdown",
   "metadata": {},
   "source": [
    "Next, we separate our target from the dataset and generate train and test datasets."
   ]
  },
  {
   "cell_type": "code",
   "execution_count": 4,
   "metadata": {},
   "outputs": [
    {
     "data": {
      "text/plain": [
       "(8000, 16)"
      ]
     },
     "execution_count": 4,
     "metadata": {},
     "output_type": "execute_result"
    }
   ],
   "source": [
    "X = data_lof.drop([\"label\"], axis = 1)\n",
    "y = data_lof[\"label\"]\n",
    "\n",
    "X_train, X_test, y_train, y_test = train_test_split(X, y, test_size = 0.2, random_state = 123)\n",
    "X_train.shape"
   ]
  },
  {
   "cell_type": "markdown",
   "metadata": {},
   "source": [
    "## Hyperparameter Optimisation\n",
    "We will do a grid search to get to find the optimised values for `learning_rate`, `n_estimators` and `num_leaves`."
   ]
  },
  {
   "cell_type": "code",
   "execution_count": 65,
   "metadata": {},
   "outputs": [
    {
     "data": {
      "text/plain": [
       "GridSearchCV(cv=10, error_score=nan,\n",
       "             estimator=LGBMClassifier(boosting_type='gbdt', class_weight=None,\n",
       "                                      colsample_bytree=1.0,\n",
       "                                      importance_type='split',\n",
       "                                      learning_rate=0.1, max_depth=-1,\n",
       "                                      min_child_samples=20,\n",
       "                                      min_child_weight=0.001,\n",
       "                                      min_split_gain=0.0, n_estimators=20,\n",
       "                                      n_jobs=-1, num_leaves=5, objective=None,\n",
       "                                      random_state=None, reg_alpha=0.0,\n",
       "                                      reg_lambda=0.0, silent=True,\n",
       "                                      subsample=1.0, subsample_for_bin=200000,\n",
       "                                      subsample_freq=0),\n",
       "             iid='deprecated', n_jobs=None,\n",
       "             param_grid={'learning_rate': [0.1, 0.125, 0.15, 0.175, 0.2],\n",
       "                         'n_estimators': [20, 22, 24, 26, 28, 30, 32, 34, 36,\n",
       "                                          38],\n",
       "                         'num_leaves': [5, 10, 15, 20, 25, 30, 35]},\n",
       "             pre_dispatch='2*n_jobs', refit=True, return_train_score=False,\n",
       "             scoring=None, verbose=0)"
      ]
     },
     "execution_count": 65,
     "metadata": {},
     "output_type": "execute_result"
    }
   ],
   "source": [
    "est_model = lgbm.LGBMClassifier(learning_rate=0.1, n_estimators=20, num_leaves=5)\n",
    "\n",
    "param_grid = {\n",
    "    \"n_estimators\": [i for i in range(20, 40, 2)],\n",
    "    \"learning_rate\": [0.10, 0.125, 0.15, 0.175, 0.2],\n",
    "    \"num_leaves\": [i for i in range(5, 40, 5)]\n",
    "}\n",
    "\n",
    "grid_search = GridSearchCV(est_model, param_grid,cv = 10)\n",
    "\n",
    "grid_search.fit(\n",
    "    X_train, y_train,\n",
    "    eval_set = [(X_test, y_test)],\n",
    "    eval_metric = [\"auc\", \"binary_logloss\"],\n",
    "    verbose = 0\n",
    ")"
   ]
  },
  {
   "cell_type": "markdown",
   "metadata": {},
   "source": [
    "After the optimisation, we can easily the the optimum parameters from the grid search."
   ]
  },
  {
   "cell_type": "code",
   "execution_count": 66,
   "metadata": {},
   "outputs": [
    {
     "name": "stdout",
     "output_type": "stream",
     "text": [
      "Best parameters found by grid search are: {'learning_rate': 0.2, 'n_estimators': 34, 'num_leaves': 35}\n"
     ]
    }
   ],
   "source": [
    "print('Best parameters found by grid search are:', grid_search.best_params_)"
   ]
  },
  {
   "cell_type": "markdown",
   "metadata": {},
   "source": [
    "Using these optimised values, we define our model as follows."
   ]
  },
  {
   "cell_type": "code",
   "execution_count": 5,
   "metadata": {},
   "outputs": [
    {
     "name": "stdout",
     "output_type": "stream",
     "text": [
      "[1]\tvalid_0's auc: 0.901732\tvalid_0's binary_logloss: 0.237438\n",
      "[2]\tvalid_0's auc: 0.902298\tvalid_0's binary_logloss: 0.217146\n",
      "[3]\tvalid_0's auc: 0.93011\tvalid_0's binary_logloss: 0.197986\n",
      "[4]\tvalid_0's auc: 0.938305\tvalid_0's binary_logloss: 0.182911\n",
      "[5]\tvalid_0's auc: 0.940201\tvalid_0's binary_logloss: 0.172339\n",
      "[6]\tvalid_0's auc: 0.94751\tvalid_0's binary_logloss: 0.163112\n",
      "[7]\tvalid_0's auc: 0.946825\tvalid_0's binary_logloss: 0.156471\n",
      "[8]\tvalid_0's auc: 0.947649\tvalid_0's binary_logloss: 0.151413\n",
      "[9]\tvalid_0's auc: 0.954898\tvalid_0's binary_logloss: 0.145539\n",
      "[10]\tvalid_0's auc: 0.961813\tvalid_0's binary_logloss: 0.140301\n",
      "[11]\tvalid_0's auc: 0.963125\tvalid_0's binary_logloss: 0.136415\n",
      "[12]\tvalid_0's auc: 0.964294\tvalid_0's binary_logloss: 0.132328\n",
      "[13]\tvalid_0's auc: 0.965251\tvalid_0's binary_logloss: 0.130425\n",
      "[14]\tvalid_0's auc: 0.966337\tvalid_0's binary_logloss: 0.12684\n",
      "[15]\tvalid_0's auc: 0.966782\tvalid_0's binary_logloss: 0.125469\n",
      "[16]\tvalid_0's auc: 0.966604\tvalid_0's binary_logloss: 0.123546\n",
      "[17]\tvalid_0's auc: 0.968074\tvalid_0's binary_logloss: 0.120845\n",
      "[18]\tvalid_0's auc: 0.968842\tvalid_0's binary_logloss: 0.118823\n",
      "[19]\tvalid_0's auc: 0.968639\tvalid_0's binary_logloss: 0.118744\n",
      "[20]\tvalid_0's auc: 0.969166\tvalid_0's binary_logloss: 0.117217\n",
      "[21]\tvalid_0's auc: 0.97009\tvalid_0's binary_logloss: 0.115542\n",
      "[22]\tvalid_0's auc: 0.970542\tvalid_0's binary_logloss: 0.113678\n",
      "[23]\tvalid_0's auc: 0.970781\tvalid_0's binary_logloss: 0.11321\n",
      "[24]\tvalid_0's auc: 0.971098\tvalid_0's binary_logloss: 0.112165\n",
      "[25]\tvalid_0's auc: 0.970872\tvalid_0's binary_logloss: 0.111718\n",
      "[26]\tvalid_0's auc: 0.970347\tvalid_0's binary_logloss: 0.111406\n",
      "[27]\tvalid_0's auc: 0.969924\tvalid_0's binary_logloss: 0.111316\n",
      "[28]\tvalid_0's auc: 0.970689\tvalid_0's binary_logloss: 0.109941\n",
      "[29]\tvalid_0's auc: 0.970758\tvalid_0's binary_logloss: 0.109662\n",
      "[30]\tvalid_0's auc: 0.970839\tvalid_0's binary_logloss: 0.109173\n",
      "[31]\tvalid_0's auc: 0.971726\tvalid_0's binary_logloss: 0.108324\n",
      "[32]\tvalid_0's auc: 0.971322\tvalid_0's binary_logloss: 0.108332\n",
      "[33]\tvalid_0's auc: 0.973667\tvalid_0's binary_logloss: 0.106321\n",
      "[34]\tvalid_0's auc: 0.97434\tvalid_0's binary_logloss: 0.105516\n"
     ]
    },
    {
     "data": {
      "text/plain": [
       "LGBMClassifier(boosting_type='gbdt', class_weight=None, colsample_bytree=1.0,\n",
       "               importance_type='split', learning_rate=0.2, max_depth=-1,\n",
       "               min_child_samples=20, min_child_weight=0.001, min_split_gain=0.0,\n",
       "               n_estimators=34, n_jobs=-1, num_leaves=35, objective=None,\n",
       "               random_state=None, reg_alpha=0.0, reg_lambda=0.0, silent=True,\n",
       "               subsample=1.0, subsample_for_bin=200000, subsample_freq=0)"
      ]
     },
     "execution_count": 5,
     "metadata": {},
     "output_type": "execute_result"
    }
   ],
   "source": [
    "lgmb_model = lgbm.LGBMClassifier(learning_rate=0.2, n_estimators=34, num_leaves=35)\n",
    "\n",
    "lgmb_model.fit(\n",
    "    X_train, y_train,\n",
    "    eval_set = [(X_test, y_test)],\n",
    "    eval_metric = [\"auc\", \"binary_logloss\"]\n",
    ")"
   ]
  },
  {
   "cell_type": "markdown",
   "metadata": {},
   "source": [
    "## Metrics, ROC Curve and Confusion Matrix\n",
    "In this section, we calculate important metrics, plot the ROC curve and present the confusion matrix."
   ]
  },
  {
   "cell_type": "code",
   "execution_count": 6,
   "metadata": {},
   "outputs": [
    {
     "name": "stdout",
     "output_type": "stream",
     "text": [
      "The accuracy is 0.9625\n",
      "The precision is 0.8545454545454545\n",
      "The recall is 0.734375\n",
      "The F1-Score is 0.7899159663865547\n",
      "The Matthew's correlation coefficient is 0.7721216255310057\n"
     ]
    }
   ],
   "source": [
    "y_pred = lgmb_model.predict(X_test, num_iteration=lgmb_model.best_iteration_)\n",
    "\n",
    "acc = accuracy_score(y_test, y_pred) \n",
    "print(\"The accuracy is {}\".format(acc)) \n",
    "  \n",
    "prec = precision_score(y_test, y_pred) \n",
    "print(\"The precision is {}\".format(prec)) \n",
    "  \n",
    "rec = recall_score(y_test, y_pred) \n",
    "print(\"The recall is {}\".format(rec)) \n",
    "  \n",
    "f1 = f1_score(y_test, y_pred) \n",
    "print(\"The F1-Score is {}\".format(f1)) \n",
    "  \n",
    "MCC = matthews_corrcoef(y_test, y_pred) \n",
    "print(\"The Matthew's correlation coefficient is {}\".format(MCC)) "
   ]
  },
  {
   "cell_type": "markdown",
   "metadata": {},
   "source": [
    "Next, we will plot the ROC curve. For that, we need to prediction probabilities and calculate the thresholds."
   ]
  },
  {
   "cell_type": "code",
   "execution_count": 90,
   "metadata": {},
   "outputs": [
    {
     "data": {
      "image/png": "[encoded data removed]",
      "text/plain": [
       "<Figure size 576x576 with 1 Axes>"
      ]
     },
     "metadata": {},
     "output_type": "display_data"
    }
   ],
   "source": [
    "y_pred_p = lgmb_model.predict_proba(X_test)[:, 1]\n",
    "\n",
    "fpr, tpr, thresholds = roc_curve(y_test, y_pred_p)\n",
    "\n",
    "plt.figure(figsize = (8, 8))\n",
    "plt.plot(fpr, tpr, color = \"darkorange\", lw = 2, label = 'ROC curve (area = %0.2f)' % roc_auc_score(y_test, y_pred_p))\n",
    "plt.plot([0, 1], [0, 1], color = 'navy', lw = 2, linestyle = '--')\n",
    "plt.xlim([0.0, 1.0])\n",
    "plt.ylim([0.0, 1.01])\n",
    "plt.title('ROC curve for credit card defaulting classifier')\n",
    "plt.xlabel('False Positive Rate (1 - Specificity)')\n",
    "plt.legend(loc=\"lower right\")\n",
    "plt.grid(True)\n",
    "plt.savefig(\"p_roc.png\")"
   ]
  },
  {
   "cell_type": "code",
   "execution_count": 92,
   "metadata": {},
   "outputs": [
    {
     "data": {
      "image/png": "[encoded data removed]",
      "text/plain": [
       "<Figure size 576x576 with 2 Axes>"
      ]
     },
     "metadata": {},
     "output_type": "display_data"
    }
   ],
   "source": [
    "axis_labels = ['Normal', 'Fraud'] \n",
    "conf_matrix = confusion_matrix(y_test, y_pred)\n",
    "\n",
    "plt.figure(figsize = (8, 8)) \n",
    "sns.heatmap(\n",
    "    conf_matrix,\n",
    "    xticklabels = axis_labels,  \n",
    "    yticklabels = axis_labels,\n",
    "    annot = True,\n",
    "    fmt =\"d\"\n",
    ") \n",
    "plt.title(\"Confusion matrix\") \n",
    "plt.ylabel('True class') \n",
    "plt.xlabel('Predicted class') \n",
    "plt.savefig(\"p_cf.png\")"
   ]
  },
  {
   "cell_type": "markdown",
   "metadata": {},
   "source": [
    "## Conclusion\n",
    "Although we have an unbalanced dataset, our Matthew's correlation coefficient together with precision and recall tells us that out model is able to classify the cases rather accurately. We suspect these scores can be raised higher with trying different sampling methods to balance the dataset."
   ]
  }
 ],
 "metadata": {
  "kernelspec": {
   "display_name": "Python 3",
   "language": "python",
   "name": "python3"
  },
  "language_info": {
   "codemirror_mode": {
    "name": "ipython",
    "version": 3
   },
   "file_extension": ".py",
   "mimetype": "text/x-python",
   "name": "python",
   "nbconvert_exporter": "python",
   "pygments_lexer": "ipython3",
   "version": "3.8.2"
  }
 },
 "nbformat": 4,
 "nbformat_minor": 4
}
